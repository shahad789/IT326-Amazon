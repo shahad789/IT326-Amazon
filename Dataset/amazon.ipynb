{
 "cells": [
  {
   "cell_type": "markdown",
   "id": "c7aa87a9",
   "metadata": {},
   "source": [
    "<h1>Description</h1>\n",
    "<h2>Goal</h2>\n",
    "<p>\n",
    "The goal of collecting the \"Amazon sale prices\" dataset is to track and analyze pricing trends of products on the Amazon platform, helping businesses and consumers make informed decisions about buying and selling products while also monitoring market dynamics and competitiveness. </p>\n",
    "<ol>\n",
    "<li>1.Classification</li>\n",
    "    <p>We want to group the product link that has the highest rating and a good rating title so we can determine the product that people prefer to buy from amazon</p>\n",
    "    <li>2.Defect predication Goal</li>\n",
    "    <p>The goal of defect prediction for the \"Amazon sale prices\" dataset is to identify and predict potential pricing anomalies, errors, or irregularities that could negatively impact product listings or customer experiences, enabling Amazon or sellers to take corrective actions promptly.</p>\n",
    "    </ol>\n",
    "<hr>\n",
    "<h2>Dataset Link</h2>\n",
    "<a href=\"https://www.kaggle.com/datasets/karkavelrajaj/amazon-sales-dataset\">Amazon sales Dataset<a>\n",
    "    <h2>General Information</h2>\n",
    "    <ul>\n",
    "    <li>Number of attribute:16</li>\n",
    "    <li>Number of objects:1466</li>\n",
    "    </ul>\n",
    "    <h4>Class label: product </h4>\n",
    "      \n",
    "| Attribute Name      | Data Type             | Description                                     | \n",
    "| ---------------     | --------------------- | ----------------------------------------------- | \n",
    "| Product_ID          | Nominal               | The product ID                                  | \n",
    "| Product_name        | Nominal               | The name of the product                         | \n",
    "| Category            | Nominal               | Categories of product                           |\n",
    "| Discounted_price    | Numeric-ratio         | The discount price                              | \n",
    "| Actual_price        | Numeric-ratio         | The actual price                                |\n",
    "| Discount_Percentage | Ordinal               | Percentage of discount for the product          |\n",
    "| Rating              | Ordinal               | The rating of product                           |\n",
    "| Rating_count        | Ordinal               | Number of poeple who rated                      |\n",
    "| About_product       | Nominal               | description about the product                   | \n",
    "| user_id             | Nominal               | users ID                                        |\n",
    "| Review_title        | Nominal               | The review title of the product                 |\n",
    "| Review_content      | Nominal               | Talks about review content of the product       |\n",
    "| Img-Link            | Nominal               | An image of the product                         |\n",
    "| Product_link        | Nominal               | A link to the product                           |\n",
    "    "
   ]
  },
  {
   "cell_type": "code",
   "execution_count": null,
   "id": "84a61037",
   "metadata": {},
   "outputs": [],
   "source": []
  }
 ],
 "metadata": {
  "kernelspec": {
   "display_name": "R",
   "language": "R",
   "name": "ir"
  },
  "language_info": {
   "codemirror_mode": "r",
   "file_extension": ".r",
   "mimetype": "text/x-r-source",
   "name": "R",
   "pygments_lexer": "r",
   "version": "3.6.1"
  }
 },
 "nbformat": 4,
 "nbformat_minor": 5
}
